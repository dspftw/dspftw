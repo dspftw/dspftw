{
  "nbformat": 4,
  "nbformat_minor": 0,
  "metadata": {
    "colab": {
      "provenance": []
    },
    "kernelspec": {
      "name": "python3",
      "display_name": "Python 3"
    },
    "language_info": {
      "name": "python"
    }
  },
  "cells": [
    {
      "cell_type": "code",
      "execution_count": null,
      "metadata": {
        "id": "BjzYBnGxJoHz"
      },
      "outputs": [],
      "source": [
        "!pip install dspftw\n",
        "!pip install dspftwplot\n",
        "!pip install numpy\n",
        "!pip install scipy"
      ]
    },
    {
      "cell_type": "code",
      "source": [
        "import numpy as np\n",
        "from matplotlib import pyplot as plt\n",
        "from numpy.random import randn, randint\n",
        "import scipy.signal as signal\n",
        "from dspftwplot import load_signal, plot_complex, plot_3d_complex\n",
        "%matplotlib notebook\n",
        "%matplotlib inline"
      ],
      "metadata": {
        "id": "A2ajjVqXKPNb"
      },
      "execution_count": null,
      "outputs": []
    },
    {
      "cell_type": "code",
      "source": [],
      "metadata": {
        "id": "322Hq68dDwEW"
      },
      "execution_count": null,
      "outputs": []
    },
    {
      "cell_type": "markdown",
      "source": [
        "#Sampled Sinusoids\n",
        "\n",
        "Complex Sinusoids are simple functions. However, they are critical to Digital Signal Processing, so they need to be well understood. When we get to the DFT, we will see that sinusoids are the building blocks for signals. In this section we will learn\n",
        "\n",
        "* Sampling Sinusoids and Normalized Frequency\n",
        "* Aliasing\n",
        "* Fundamental Interval for Normalized Frequency\n",
        "* Correlating Sinusoids with a signal\n",
        "\n",
        "#Sampling Sinusoids and Normalized Frequency\n",
        "\n",
        "We mathematically describe a sinusoid as follows:\n",
        "\n",
        "$\\large s(t)=Ae^{j(2π*f*t +p)}$\n",
        "\n",
        "At this time we will ignore amplitude A and initial phase p, that is, we assume A=1 and p=0, leaving us with $\\large s(t)=e^{2\\pi*j*f*t}$ , where f is frequency in cycles per second and t is time in seconds.\n",
        "\n",
        "Recall: When we see a sinusoid of that looks like $\\large e^{2π j()}$, what is inside the parentheses $()$ must have cycles as its units. Frequency $f$ has units cycles/second and time $t$ has units seconds, so $f*t$ has cycles as its units.\n",
        "\n",
        "#Example:\n",
        "\n",
        "Plot the sinusoid with frequency $f = 0.5$ cycles per second for 3 seconds. That is, plot $\\large s(t)=e^{2π j*0.5t}$ for $0 \\leq t \\leq 3$. Plot several perspectives.\n",
        "\n",
        "\n",
        "Plot all points in time on the complex plane"
      ],
      "metadata": {
        "id": "MthXC2v5DxOy"
      }
    },
    {
      "cell_type": "code",
      "source": [
        "frequency = 0.5\n",
        "start = 0.0\n",
        "finish = 3\n",
        "delta = 2*np.pi / 1000\n",
        "t = np.arange(start,finish, delta)\n",
        "sinusoid = np.exp(2*np.pi*1j*frequency*t)\n",
        "\n",
        "plot_complex(sinusoid)"
      ],
      "metadata": {
        "id": "72lRSmY7Jq2l"
      },
      "execution_count": null,
      "outputs": []
    },
    {
      "cell_type": "markdown",
      "source": [
        "Plot 3D complex graph"
      ],
      "metadata": {
        "id": "yTeUkqMSq-2u"
      }
    },
    {
      "cell_type": "code",
      "source": [
        "frequency = 0.5\n",
        "start = 0.0\n",
        "finish = 3\n",
        "delta = 2*np.pi/1000\n",
        "t = np.arange(start,finish,delta)\n",
        "sinusoid = np.exp(22*np.pi*1j*frequency*t)\n",
        "\n",
        "plot_3d_complex(t,sinusoid)"
      ],
      "metadata": {
        "id": "6VumavEbK3n9"
      },
      "execution_count": null,
      "outputs": []
    },
    {
      "cell_type": "markdown",
      "source": [
        "Separately plot the real and imaginary components versus time\n"
      ],
      "metadata": {
        "id": "jwj8RU2trPk0"
      }
    },
    {
      "cell_type": "code",
      "source": [
        "frequency = 0.5\n",
        "start = 0.0\n",
        "finish = 3\n",
        "delta = 2*np.pi/1000\n",
        "t = np.arange(start, finish, delta)\n",
        "sinusoid = np.exp(2*np.pi*1j*frequency*t)\n",
        "\n",
        "#plot the real parts of the sinusoid\n",
        "fig = plt.figure(figsize=(7,12))\n",
        "ax = fig.add_subplot(2,1,1)\n",
        "ax.plot(t, np.real(sinusoid))\n",
        "\n",
        "ax = fig.add_subplot(2,1,2)\n",
        "ax.plot(t, np.imag(sinusoid))\n",
        "plt.show()"
      ],
      "metadata": {
        "id": "hwqEFUrrLTV1"
      },
      "execution_count": null,
      "outputs": []
    },
    {
      "cell_type": "markdown",
      "source": [
        "Sampling is how we take a continuous signal and make a discrete list of values. Computers can only work with sampled signals and not with analog signals.\n",
        "\n",
        "If we are working with a signal in a computer then we are working with a sampled signal, not a continuous one. The process of sampling a continuous signal s(t) is straightforward. Our samples are formed by measuring our signal at evenly spaced points in time.\n",
        "\n",
        "Consider a continuous time signal *s(t)*. This means that *t* is allowed to take any real number. We start by deciding how fast we want to take samples of our signal. We call this rate the **sample rate** and call it *sr*. The units for *sr* are measured in samples per second, also known as Hertz (Hz).\n",
        "\n",
        "Again, the sample rate *sr* units are samples/second. Thus the reciprocal of the sample rate *(1/sr)* has units seconds/sample, which we call **sample time** *T*. The sample time is the amount of time between adjacent samples. Here are the equations relating to *sr* and *T*.\n",
        "\n",
        "$$T = 1/sr,\\\\\\\\sr = 1/T$$\n",
        "\n",
        "To form our list of samples *s[n]*, we define *s[n] = s(nT)* where n=....,-2,.-1,0,1,2,.... That is, all we do is substitute *nT* for t in the continuous function *s(t)*.\n",
        "\n",
        "Remark: The square bracket notation *s[n[* will denote the discrete time (i.e. sampled) signal and parenthetical notation *s(t)* will denote a continuous time signal.\n",
        "\n",
        "#Example\n",
        "\n",
        "Plot the real and imaginary parts of a sinusoid with frequency 2.3 cycles per second for 1 second and sampled at 50 samples per second.\n",
        "\n",
        "#Solution\n",
        "\n",
        "The continuous function is $\\large s(t) = e^{2π j*(2.3)*t}$, where $\\large 0\\leq t \\leq 1$\n",
        "\n",
        "Next we  create the samples by substituting *nT* for every *t*.\n",
        "\n",
        "* sr = 50 samples per second\n",
        "* T = 1/50 - 0.02 seconds (per sample)\n",
        "\n",
        "$\\large s[n] = e^{2π j*(2.3)*(nT)}$ where $\\large 0 \\leq n \\leq 1/T$\n",
        "\n",
        "Replace each *T* wit *1/sr*\n",
        "\n",
        "$\\large s[n] = e^{2π j*(2.3/sr*n}$, where $\\large 0\\leq n \\leq sr$\n"
      ],
      "metadata": {
        "id": "1Gvob1ZvrdSf"
      }
    },
    {
      "cell_type": "code",
      "source": [
        "frequency = 2.3\n",
        "sample_rate = 50\n",
        "n = np.linspace(0,sample_rate)\n",
        "signal = np.exp(2*np.pi*1j*(frequency/sample_rate)*n)\n",
        "fig = plt.figure(figsize=(7,12))\n",
        "ax = fig.add_subplot(2,1,1)\n",
        "ax.plot(n,np.real(signal))\n",
        "\n",
        "ax = fig.add_subplot(2,1,2)\n",
        "ax.plot(n, np.imag(signal))\n",
        "plt.show()"
      ],
      "metadata": {
        "id": "Ul6bbKlgMiCr"
      },
      "execution_count": null,
      "outputs": []
    },
    {
      "cell_type": "markdown",
      "source": [
        "Here is the same plot with the continuous plot included"
      ],
      "metadata": {
        "id": "WY9E0ykA5im7"
      }
    },
    {
      "cell_type": "code",
      "source": [
        "frequency = 2.3\n",
        "sample_rate = 50\n",
        "n = np.linspace(0,sample_rate)\n",
        "s = np.exp(2*np.pi*1j*(frequency/sample_rate)*n)\n",
        "\n",
        "cont_space = np.arange(0,sample_rate,0.01)\n",
        "scont = np.exp(2*np.pi*1j*(frequency/sample_rate)*cont_space)\n",
        "\n",
        "fig = plt.figure(figsize=(7,12))\n",
        "ax = fig.add_subplot(2,1,1)\n",
        "ax.plot(cont_space, np.real(scont), alpha=0.5)\n",
        "\n",
        "ax = fig.add_subplot(2,1,2)\n",
        "ax.plot(cont_space, np.imag(scont), alpha=0.5)\n",
        "plt.show()"
      ],
      "metadata": {
        "id": "YxsrGVBzdTtr"
      },
      "execution_count": null,
      "outputs": []
    },
    {
      "cell_type": "markdown",
      "source": [
        "# Sample Rate\n",
        "\n",
        "In summary, when sampling the continuous sinusoid $\\large s(t) = e^{2π j*f*t}$ at sample rate *sr* we get the discrete samples from the following formula. $$\\Large s[n] = e^{2π j*\\left(\\frac{f}{sr}\\right)*n}$$\n",
        "\n",
        "#Definition\n",
        "\n",
        "The fraction $\\large f/sr$ is called **normalized frequency**\n",
        "\n",
        "The units are (cycles/seconds)/(samples/second) = cycles/sample. The normalized frequency tells us how many cycles the sinusoid advances at each sample.\n",
        "\n",
        "#Example\n",
        "\n",
        "Consider the continuous sinusoid with *f*=1600 Hz sample at *sr*=8000 Hz. Compute how many cycles this sinusoid advances for each sample. Show this graphically.\n",
        "\n",
        "#Solution\n",
        "\n",
        "The continuous sinusoid is $\\large s(t) = e^{(2\\pi j*1600*t)}$\n",
        "\n",
        "The sampled sinusoid is $\\large s[n] = e^{(2\\pi j*(1600/8000)*n)} = e^{(2\\pi j*(0.2)*n)} $\n",
        "\n",
        "Thus the sampled sinusoid advances 0.2 cycles for each sample"
      ],
      "metadata": {
        "id": "3li3r7eT50II"
      }
    },
    {
      "cell_type": "code",
      "source": [
        "frequency = 1600\n",
        "sample_rate = 8000\n",
        "start = 0\n",
        "finish = 5\n",
        "n = np.linspace(start,finish)\n",
        "sinusoid = np.exp(2*np.pi*1j*(frequency/sample_rate)*n)\n",
        "num_points = int(1/0.01)\n",
        "circ = np.exp(2*np.pi*1j*np.linspace(0,1,num_points))\n",
        "\n",
        "#fig = plt.figure(figsize=(7,12))\n",
        "plot_complex(circ, c='b', alpha=0.8)\n",
        "plot_complex(sinusoid,c='r', marker='o', alpha=0.5)\n",
        "#plt.show()"
      ],
      "metadata": {
        "id": "xxslEEnmeCnz"
      },
      "execution_count": null,
      "outputs": []
    },
    {
      "cell_type": "markdown",
      "source": [
        "#Aliasing\n",
        "\n",
        "When we sample a sinusoid (any signal), we have the possibility of aliasing. When we sample a signal, we do not know what happens between samples. We will not be able to detect significant changes between samples. For a given sample rate *sr*, it is possible for two sinusoids with different frequencies to yield the exact same samples. In this case we say these sinusoids are **aliases** of each other.\n",
        "\n",
        "**Example:**\n",
        "\n",
        "The sinusoid with the frequency *f=2.3 Hz* and sampled at *sr=50 Hz* will have normalized frequency $\\large f/sr = 2.3/50 = 0.046$ cycles per sample. This means the sinusoid advances 0.046 cycles every sample. Suppose another sinusoid is spinning so much faster that between samples it advances 0.046 cycles plus 1 full cycle. That is, the normalized frequency is 1.046. When sampled, this faster sinusoid will appear exactly like the slower sinusoid."
      ],
      "metadata": {
        "id": "yA2zD_CR2AQw"
      }
    },
    {
      "cell_type": "code",
      "source": [
        "sample_rate = 50\n",
        "frequency = 2.3\n",
        "signal1 = np.exp(2*np.pi*1j*(frequency/sample_rate)*np.arange(0,sample_rate))\n",
        "signal2 = np.exp(2*np.pi*1j*(frequency/sample_rate+1)*np.arange(0,sample_rate))\n",
        "\n",
        "frac = 100\n",
        "s1cont = np.exp(2*np.pi*1j*(frequency/sample_rate)*np.arange(0, sample_rate,(1/frac)))\n",
        "s2cont = np.exp(2*np.pi*1j*(frequency/sample_rate+1)*np.arange(0,sample_rate,(1/frac)))\n",
        "\n",
        "fig = plt.figure(figsize=(7,12))\n",
        "\n",
        "ax = fig.add_subplot(2,1,1)\n",
        "ax.plot(np.arange(0,sample_rate,(1/frac)), np.real(s1cont), c='b', alpha=0.8)\n",
        "ax.plot(np.arange(0,sample_rate), np.real(signal1), marker='o', c='r', alpha=0.5)\n",
        "\n",
        "ax = fig.add_subplot(2,1,2)\n",
        "ax.plot(np.arange(0, sample_rate, (1/frac)), np.real(s2cont), c='b', alpha=0.6)\n",
        "ax.plot(np.arange(0,sample_rate), np.real(signal2), marker='o', c='r',alpha=0.5)"
      ],
      "metadata": {
        "id": "crNMsVrEeyf4"
      },
      "execution_count": null,
      "outputs": []
    },
    {
      "cell_type": "markdown",
      "source": [
        "What is the frequency of the faster sinusoid? That is find $\\large f_2$ such that its normalized frequency is 1 more than that normalized frequency of $\\large f$.\n",
        "\n",
        "Another way: Solve $\\large \\frac{f_2}{sr} = \\frac{f}{sr}+1$ for $\\large f_2$.\n",
        "\n",
        "Multiply through by sr to get: $\\large f_2 = f + sr$\n",
        "\n",
        "In fact, for any frequency *f* and sample rate *sr* all the frequencies $\\large f + n\\cdot sr$ are aliases of $\\large f$ where $\\large n = \\ldots,-2,-1,0,1,2,\\ldots$"
      ],
      "metadata": {
        "id": "BRs01q4L6RLp"
      }
    },
    {
      "cell_type": "code",
      "source": [
        "frequency = 2.3\n",
        "sample_rate = 50\n",
        "freq2 = frequency + sample_rate\n",
        "\n",
        "#sampling a slower sinusoid\n",
        "s1 = np.exp(2*np.pi*1j*(frequency/sample_rate)*np.arange(0,sample_rate))\n",
        "#sampling a faster sinusoid\n",
        "s2 = np.exp(2*np.pi*1j*(freq2/sample_rate)*np.arange(0,sample_rate))\n",
        "\n",
        "few = 5\n",
        "print(s1[0:few])\n",
        "print(s2[0:few])"
      ],
      "metadata": {
        "id": "Y6-JmW9qgzgx"
      },
      "execution_count": null,
      "outputs": []
    },
    {
      "cell_type": "markdown",
      "source": [
        "#Fundamental Interval for Normalized Frequency\n",
        "\n",
        "For a given sample rate $sr$, when we sample sinusoids with many frequencies we know there is repetition (e.g. sinusoids with frequencies $f$ and $f+sr$ produce indentical results). Thus there is no need to consider a high frequency sampled sinusoid because it will be identical to a low frequency sinusoid.\n",
        "\n",
        "Continuous signals with the following frequencies all produce the exact same sampled sinusoid.\n",
        "\n",
        "$\\cdots,\\ \\ f-2sr, \\ \\ f-sr, \\ \\ f, \\ \\ f+sr, \\ \\ f+2sr,\\ \\cdots$\n",
        "\n",
        "When writing down a normalized frequency we have a choice of values. E.g. we could (correctly) say the above sampled sinusoids have normalized frequency $-0.954$ or $0.046$ or $1.046$ or $\\cdots$. It is convention to write the normalized frequency that is as close to 0 as possible. Because we can add or subtract 1 as much as we want to a normalized frequency without changing the sinusoid, it is always possible to write a normalized frequency between $-0.5$ and  $0.5$.\n",
        "\n",
        "When sampling signals we use the following conventions:\n",
        "\n",
        "*   Normalized frequency **fundamental interval**: $(-0.5,0.5)$ (sometimes $(0,1)$) cycles/sample\n",
        "*   Frequency fundamental interval: $(-sr/2,sr/2)$\n",
        "\n",
        "Useful fact to remember: (normalized frequency in cycles per sample)*sr = frequency in cycles per second.\n",
        "\n",
        "#Correlating Sinusoids with a Signal\n",
        "\n",
        "##Example\n",
        "\n",
        "Create a signal sample at 800 Hz by adding Gaussian noise (with power 2) to a sinusoid with frequency 20 Hz and power 1."
      ],
      "metadata": {
        "id": "TRdy578K86OU"
      }
    },
    {
      "cell_type": "code",
      "source": [
        "frequency = 20\n",
        "sample_rate = 800\n",
        "# Number of samples\n",
        "N = 256\n",
        "#create signal\n",
        "sig = (np.random.randn(1,N) + 1j*np.random.randn(1,N)) + np.exp(2*np.pi*1j*frequency/sample_rate)\n",
        "\n",
        "#plot time versus real part of energy\n",
        "plt.figure()\n",
        "plt.plot(np.real(sig[0]))\n",
        "plt.show()\n",
        "# We can make out the sinusoid in spite of the noise"
      ],
      "metadata": {
        "id": "X1iw6P7s1NMY"
      },
      "execution_count": null,
      "outputs": []
    },
    {
      "cell_type": "markdown",
      "source": [
        "Correlate this signal with sinusoids with 4 randomly selected normalized frequencies (between -0.5 and 0.5). Which normalized frequency yields the largest magnitude correlation?"
      ],
      "metadata": {
        "id": "evSNzzvdE7BM"
      }
    },
    {
      "cell_type": "code",
      "source": [
        "normfreq = np.random.rand(1,4)-0.5\n",
        "\n",
        "corrvals = np.empty([1,4], dtype='complex')\n",
        "\n",
        "index =0\n",
        "for freq in np.nditer(normfreq):\n",
        "  nf = freq\n",
        "  sinusoid = np.exp(2*np.pi*1j*nf*np.arange(0,N))\n",
        "  corrval = np.dot(sig, np.conj(sinusoid))\n",
        "  corrvals.flat[index] = corrval\n",
        "  index +=1\n",
        "\n",
        "print(f'Correlation Values={corrvals}')\n",
        "corrMag = np.abs(corrvals)\n",
        "print(f'Correlation Magnitude={corrMag}')"
      ],
      "metadata": {
        "id": "9qa-_Yjx2W4a"
      },
      "execution_count": null,
      "outputs": []
    },
    {
      "cell_type": "markdown",
      "source": [
        "Do a more systematic search for the normalized frequency leading to the largest magnitude correlation. This will tell us which sinusoid has the most energy in our signal."
      ],
      "metadata": {
        "id": "6KXflbEnFj59"
      }
    },
    {
      "cell_type": "code",
      "source": [
        "#Normalized frequencies\n",
        "normfreq = np.arange(-0.5,0.5,0.01)\n",
        "#Allocate space for correlation values\n",
        "corrval = np.empty([1,len(normfreq)])\n",
        "for freq in np.nditer(normfreq):\n",
        "  #Select the next normalized frequency\n",
        "  nf = freq;\n",
        "  #Define the sampled sinusoid with the same length as the signal\n",
        "  sinusoid = np.exp(2*np.pi*1j*nf*np.arange(0,N))\n",
        "  #Correlate signal with sinusoid\n",
        "  np.append(corrval, np.dot(sig, np.conj(sinusoid)))\n",
        "\n",
        "# The max function returns the max value and the index where that max occurred\n",
        "# [maxval, maxidx] = max(np.abs(corrval))\n",
        "print(np.abs(corrval))\n",
        "maxval = np.amax(np.abs(corrval))\n",
        "print(maxval)"
      ],
      "metadata": {
        "id": "QZBrj1Vy32Tv"
      },
      "execution_count": null,
      "outputs": []
    },
    {
      "cell_type": "markdown",
      "source": [
        "##Question:\n",
        "What (unnormalized) frequency corresponds to this normalized frequency?\n",
        "\n",
        "#Answer:\n",
        "($\\_\\_\\_$ cycles/sample)*(800 samples/second) = $\\_\\_\\_$ cycles/second\n",
        "\n",
        "Is this the expected answer?\n",
        "\n",
        "What normailzed frequency should give us the best correlation score?\n",
        "\n",
        "Change the code below to get the expected answer."
      ],
      "metadata": {
        "id": "BkkFzUkMGI1J"
      }
    },
    {
      "cell_type": "code",
      "source": [
        "#Normalized frequencies\n",
        "normfreq = np.arange(-0.5,0.5,0.01)\n",
        "#Allocate space for correlation values\n",
        "corrval = np.empty([1,len(normfreq)])\n",
        "for freq in np.nditer(normfreq):\n",
        "  #Select the next normalized frequency\n",
        "  nf = freq;\n",
        "  #Define the sampled sinusoid with the same length as the signal\n",
        "  sinusoid = np.exp(2*np.pi*1j*nf*np.arange(0,N))\n",
        "  #Correlate signal with sinusoid\n",
        "  np.append(corrval, np.dot(sig, np.conj(sinusoid)))\n",
        "\n",
        "# The max function returns the max value and the index where that max occurred\n",
        "# [maxval, maxidx] = max(np.abs(corrval))\n",
        "print(np.abs(corrval))\n",
        "maxval = np.amax(np.abs(corrval))\n",
        "print(maxval)\n"
      ],
      "metadata": {
        "id": "EHkFj0fy560t"
      },
      "execution_count": null,
      "outputs": []
    },
    {
      "cell_type": "markdown",
      "source": [
        "#Fourier Analysis Remarks\n",
        "\n",
        "We have just started down a path that requires a change in how we think about signals. For lack of a better term, we need a paradigm shift. We started by thinking of a signal as a list of (complex) numbers where each value represents the energy of the signal at a particular time. That is, we think of energy for a each moment in time. Now we think of energy for each frequency. We compute the energy for a given frequency by correlating a sinusoid at that with our signal.\n",
        "\n",
        "Converting a signal from time points to frequency points is called a Fourier Transform. Above we graphed the same signal as a function of time and then later as a function of frequency. It is important to realize these are graphs of the same signal but from different perspectives.\n",
        "\n",
        "To understand Digital Signal Processing well one must be comfortable with viewing/manipulating signals in time (time domain) and in frequency (frequency domain) and easily switching back and forth between these perspectives as needed. Some concepts in DSP are best described in time, some best described in frequency, and some rely on the interrelation between two domains. (March Madness Example)\n",
        "\n"
      ],
      "metadata": {
        "id": "ytZ1GLA0IDbu"
      }
    },
    {
      "cell_type": "markdown",
      "source": [
        "# Exercises"
      ],
      "metadata": {
        "id": "dZE0rSOrUq4R"
      }
    },
    {
      "cell_type": "markdown",
      "source": [
        "1. Create a signal sampled at 500 Hz by adding Gaussian noise (with power 2) to a sinusoid with frequency 516 Hz and power 1. Plot this signal. What is the normalized frequency for this sampled sinusoid? Make sure the normalized frequency answer is in the fundamental interval."
      ],
      "metadata": {
        "id": "YwjXhG2BUw2g"
      }
    },
    {
      "cell_type": "code",
      "source": [],
      "metadata": {
        "id": "44Ia1Jj3VH9c"
      },
      "execution_count": null,
      "outputs": []
    },
    {
      "cell_type": "markdown",
      "source": [
        "2. Correlate the sampled signal from exercise 1 with sampled sinusoids with the following normalized frequencies: -0.95, 0.05, 0.2, 0.35\n",
        "\n",
        "Which two normalized frequencies produce identical sampled sinusoids?\n",
        "\n",
        "Which normalized frequency has the largest magnitude correlation score?"
      ],
      "metadata": {
        "id": "9AoXoPO8VI6z"
      }
    },
    {
      "cell_type": "code",
      "source": [],
      "metadata": {
        "id": "-MWi6h-pVmwo"
      },
      "execution_count": null,
      "outputs": []
    },
    {
      "cell_type": "markdown",
      "source": [
        "3. Do a systematic search of the normalized frequency with the best correlation score. Plot a graph of the normalized frequencies vs abs(correlation score). Be sure the correct answer is found in your systematic search."
      ],
      "metadata": {
        "id": "WwIab_8yVno1"
      }
    },
    {
      "cell_type": "code",
      "source": [],
      "metadata": {
        "id": "PqOfpBeXV7vR"
      },
      "execution_count": null,
      "outputs": []
    },
    {
      "cell_type": "markdown",
      "source": [
        "4. Plot the real and imaginary parts of a sinusoid with frequency 1.9 cycles per second for 1 second and sampled at 50 samples per second. What is the normalized frequency?"
      ],
      "metadata": {
        "id": "HkXJasPDV8gh"
      }
    },
    {
      "cell_type": "code",
      "source": [],
      "metadata": {
        "id": "sRPAirWLWJmh"
      },
      "execution_count": null,
      "outputs": []
    },
    {
      "cell_type": "markdown",
      "source": [
        "5. Plot the real and imaginary parts of a sinusoid with frequency 3.8 cycles per second for 1 second and sampled at 100 samples per second. What is the normalized frequency? what is the difference between the graphs for problem 4 and 5?"
      ],
      "metadata": {
        "id": "_tdDMgCcWKzH"
      }
    },
    {
      "cell_type": "code",
      "source": [],
      "metadata": {
        "id": "fRvc1gl0WaF7"
      },
      "execution_count": null,
      "outputs": []
    }
  ]
}